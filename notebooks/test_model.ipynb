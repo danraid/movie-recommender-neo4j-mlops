{
 "cells": [
  {
   "cell_type": "code",
   "execution_count": 17,
   "metadata": {},
   "outputs": [],
   "source": [
    "import joblib"
   ]
  },
  {
   "cell_type": "code",
   "execution_count": 18,
   "metadata": {},
   "outputs": [],
   "source": [
    "# Caminho para o modelo salvo\n",
    "model_path = \"../models/recommender.pkl\"  # Ajuste o caminho se necessário"
   ]
  },
  {
   "cell_type": "code",
   "execution_count": 19,
   "metadata": {},
   "outputs": [
    {
     "name": "stdout",
     "output_type": "stream",
     "text": [
      "✅ Modelo carregado com sucesso!\n"
     ]
    }
   ],
   "source": [
    "# Tentar carregar o modelo\n",
    "try:\n",
    "    model = joblib.load(model_path)\n",
    "    print(\"✅ Modelo carregado com sucesso!\")\n",
    "except Exception as e:\n",
    "    print(f\"❌ Erro ao carregar o modelo: {e}\")"
   ]
  },
  {
   "cell_type": "code",
   "execution_count": 20,
   "metadata": {},
   "outputs": [
    {
     "name": "stdout",
     "output_type": "stream",
     "text": [
      "🎬 O usuário 10 provavelmente daria nota 2.28 para o filme 5\n"
     ]
    },
    {
     "name": "stderr",
     "output_type": "stream",
     "text": [
      "c:\\Users\\danie\\Documents\\GitHub\\movie-recommender-neo4j-mlops\\venv\\Lib\\site-packages\\sklearn\\utils\\validation.py:2739: UserWarning: X does not have valid feature names, but RandomForestRegressor was fitted with feature names\n",
      "  warnings.warn(\n"
     ]
    }
   ],
   "source": [
    "# Testar uma previsão com um usuário e um filme\n",
    "user_id = 10\n",
    "movie_id = 5\n",
    "\n",
    "try:\n",
    "    predicted_rating = model.predict([[user_id, movie_id]])\n",
    "    print(f\"🎬 O usuário {user_id} provavelmente daria nota {predicted_rating[0]:.2f} para o filme {movie_id}\")\n",
    "except Exception as e:\n",
    "    print(f\"❌ Erro ao fazer a previsão: {e}\")"
   ]
  }
 ],
 "metadata": {
  "kernelspec": {
   "display_name": "venv",
   "language": "python",
   "name": "python3"
  },
  "language_info": {
   "codemirror_mode": {
    "name": "ipython",
    "version": 3
   },
   "file_extension": ".py",
   "mimetype": "text/x-python",
   "name": "python",
   "nbconvert_exporter": "python",
   "pygments_lexer": "ipython3",
   "version": "3.13.2"
  }
 },
 "nbformat": 4,
 "nbformat_minor": 2
}
