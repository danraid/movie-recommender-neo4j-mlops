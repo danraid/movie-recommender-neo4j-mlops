{
 "cells": [
  {
   "cell_type": "markdown",
   "metadata": {},
   "source": [
    "1️⃣ Criar grafo de usuários e filmes"
   ]
  },
  {
   "cell_type": "code",
   "execution_count": null,
   "metadata": {
    "vscode": {
     "languageId": "plaintext"
    }
   },
   "outputs": [],
   "source": [
    "import networkx as nx\n",
    "import matplotlib.pyplot as plt\n",
    "\n",
    "G = nx.Graph()\n",
    "\n",
    "# Adicionar arestas com pesos das avaliações\n",
    "for _, row in data.iterrows():\n",
    "    G.add_edge(f\"User_{row['u.id']}\", f\"Movie_{row['m.id']}\", weight=row[\"score\"])\n",
    "\n",
    "# Visualizar a estrutura do grafo\n",
    "plt.figure(figsize=(10,6))\n",
    "nx.draw(G, with_labels=True, node_size=500, font_size=8)\n",
    "plt.title(\"Grafo de Relacionamento Usuário-Filme\")\n",
    "plt.show()\n"
   ]
  },
  {
   "cell_type": "markdown",
   "metadata": {},
   "source": [
    "2️⃣ Aplicar PageRank para identificar filmes populares"
   ]
  },
  {
   "cell_type": "code",
   "execution_count": null,
   "metadata": {
    "vscode": {
     "languageId": "plaintext"
    }
   },
   "outputs": [],
   "source": [
    "pagerank_scores = nx.pagerank(G, alpha=0.85)\n",
    "sorted_pagerank = sorted(pagerank_scores.items(), key=lambda x: x[1], reverse=True)\n",
    "\n",
    "# Exibir os 5 filmes mais relevantes segundo PageRank\n",
    "sorted_pagerank[:5]\n"
   ]
  }
 ],
 "metadata": {
  "language_info": {
   "name": "python"
  }
 },
 "nbformat": 4,
 "nbformat_minor": 2
}
