{
 "cells": [
  {
   "cell_type": "markdown",
   "metadata": {},
   "source": [
    "1️⃣ Carregar dados do Neo4j"
   ]
  },
  {
   "cell_type": "code",
   "execution_count": null,
   "metadata": {
    "vscode": {
     "languageId": "plaintext"
    }
   },
   "outputs": [],
   "source": [
    "from py2neo import Graph\n",
    "import pandas as pd\n",
    "\n",
    "graph = Graph(\"bolt://localhost:7687\", auth=(\"neo4j\", \"password\"))\n",
    "\n",
    "query = \"MATCH (u:User)-[r:RATED]->(m:Movie) RETURN u.id, m.id, r.score\"\n",
    "data = graph.run(query).to_data_frame()\n",
    "\n",
    "# Exibir amostra dos dados\n",
    "data.head()\n"
   ]
  },
  {
   "cell_type": "markdown",
   "metadata": {},
   "source": [
    "2️⃣ Distribuição das avaliações dos filmes"
   ]
  },
  {
   "cell_type": "code",
   "execution_count": null,
   "metadata": {
    "vscode": {
     "languageId": "plaintext"
    }
   },
   "outputs": [],
   "source": [
    "import matplotlib.pyplot as plt\n",
    "\n",
    "plt.hist(data[\"score\"], bins=5, color='blue', alpha=0.7)\n",
    "plt.xlabel(\"Nota do Filme\")\n",
    "plt.ylabel(\"Frequência\")\n",
    "plt.title(\"Distribuição das Notas dos Filmes\")\n",
    "plt.show()\n"
   ]
  },
  {
   "cell_type": "markdown",
   "metadata": {},
   "source": [
    "3️⃣ Contagem de avaliações por usuário"
   ]
  },
  {
   "cell_type": "code",
   "execution_count": null,
   "metadata": {
    "vscode": {
     "languageId": "plaintext"
    }
   },
   "outputs": [],
   "source": [
    "user_ratings = data.groupby(\"u.id\")[\"score\"].count()\n",
    "user_ratings.plot(kind=\"bar\", figsize=(10,5))\n",
    "plt.xlabel(\"ID do Usuário\")\n",
    "plt.ylabel(\"Número de Avaliações\")\n",
    "plt.title(\"Quantidade de Avaliações por Usuário\")\n",
    "plt.show()\n"
   ]
  }
 ],
 "metadata": {
  "language_info": {
   "name": "python"
  }
 },
 "nbformat": 4,
 "nbformat_minor": 2
}
